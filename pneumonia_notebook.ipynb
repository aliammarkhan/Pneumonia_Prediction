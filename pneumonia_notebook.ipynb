{
  "nbformat": 4,
  "nbformat_minor": 0,
  "metadata": {
    "accelerator": "GPU",
    "colab": {
      "name": "chest-x-ray.ipynb",
      "provenance": []
    },
    "kernelspec": {
      "display_name": "Python 3",
      "name": "python3"
    }
  },
  "cells": [
    {
      "cell_type": "code",
      "metadata": {
        "id": "834bydCxvZZ3"
      },
      "source": [
        "import os\n",
        "import cv2\n",
        "import numpy as np\n",
        "import matplotlib.pyplot as plt\n",
        "from tensorflow.keras import layers\n",
        "import tensorflow as tf"
      ],
      "execution_count": null,
      "outputs": []
    },
    {
      "cell_type": "code",
      "metadata": {
        "id": "HHT0YSoPoDN_",
        "colab": {
          "base_uri": "https://localhost:8080/",
          "height": 1000
        },
        "outputId": "1bcf5837-cd22-4a98-82bb-cfecc0b82f51"
      },
      "source": [
        "pip install tensorflow==2.1.0"
      ],
      "execution_count": null,
      "outputs": [
        {
          "output_type": "stream",
          "text": [
            "Collecting tensorflow==2.1.0\n",
            "\u001b[?25l  Downloading https://files.pythonhosted.org/packages/85/d4/c0cd1057b331bc38b65478302114194bd8e1b9c2bbc06e300935c0e93d90/tensorflow-2.1.0-cp36-cp36m-manylinux2010_x86_64.whl (421.8MB)\n",
            "\u001b[K     |████████████████████████████████| 421.8MB 29kB/s \n",
            "\u001b[?25hRequirement already satisfied: google-pasta>=0.1.6 in /usr/local/lib/python3.6/dist-packages (from tensorflow==2.1.0) (0.2.0)\n",
            "Collecting tensorflow-estimator<2.2.0,>=2.1.0rc0\n",
            "\u001b[?25l  Downloading https://files.pythonhosted.org/packages/18/90/b77c328a1304437ab1310b463e533fa7689f4bfc41549593056d812fab8e/tensorflow_estimator-2.1.0-py2.py3-none-any.whl (448kB)\n",
            "\u001b[K     |████████████████████████████████| 450kB 48.5MB/s \n",
            "\u001b[?25hRequirement already satisfied: grpcio>=1.8.6 in /usr/local/lib/python3.6/dist-packages (from tensorflow==2.1.0) (1.33.2)\n",
            "Collecting tensorboard<2.2.0,>=2.1.0\n",
            "\u001b[?25l  Downloading https://files.pythonhosted.org/packages/d9/41/bbf49b61370e4f4d245d4c6051dfb6db80cec672605c91b1652ac8cc3d38/tensorboard-2.1.1-py3-none-any.whl (3.8MB)\n",
            "\u001b[K     |████████████████████████████████| 3.9MB 52.9MB/s \n",
            "\u001b[?25hRequirement already satisfied: protobuf>=3.8.0 in /usr/local/lib/python3.6/dist-packages (from tensorflow==2.1.0) (3.12.4)\n",
            "Collecting keras-applications>=1.0.8\n",
            "\u001b[?25l  Downloading https://files.pythonhosted.org/packages/71/e3/19762fdfc62877ae9102edf6342d71b28fbfd9dea3d2f96a882ce099b03f/Keras_Applications-1.0.8-py3-none-any.whl (50kB)\n",
            "\u001b[K     |████████████████████████████████| 51kB 8.4MB/s \n",
            "\u001b[?25hRequirement already satisfied: wheel>=0.26; python_version >= \"3\" in /usr/local/lib/python3.6/dist-packages (from tensorflow==2.1.0) (0.35.1)\n",
            "Requirement already satisfied: absl-py>=0.7.0 in /usr/local/lib/python3.6/dist-packages (from tensorflow==2.1.0) (0.10.0)\n",
            "Requirement already satisfied: termcolor>=1.1.0 in /usr/local/lib/python3.6/dist-packages (from tensorflow==2.1.0) (1.1.0)\n",
            "Requirement already satisfied: keras-preprocessing>=1.1.0 in /usr/local/lib/python3.6/dist-packages (from tensorflow==2.1.0) (1.1.2)\n",
            "Requirement already satisfied: astor>=0.6.0 in /usr/local/lib/python3.6/dist-packages (from tensorflow==2.1.0) (0.8.1)\n",
            "Requirement already satisfied: numpy<2.0,>=1.16.0 in /usr/local/lib/python3.6/dist-packages (from tensorflow==2.1.0) (1.18.5)\n",
            "Requirement already satisfied: opt-einsum>=2.3.2 in /usr/local/lib/python3.6/dist-packages (from tensorflow==2.1.0) (3.3.0)\n",
            "Requirement already satisfied: six>=1.12.0 in /usr/local/lib/python3.6/dist-packages (from tensorflow==2.1.0) (1.15.0)\n",
            "Requirement already satisfied: scipy==1.4.1; python_version >= \"3\" in /usr/local/lib/python3.6/dist-packages (from tensorflow==2.1.0) (1.4.1)\n",
            "Requirement already satisfied: wrapt>=1.11.1 in /usr/local/lib/python3.6/dist-packages (from tensorflow==2.1.0) (1.12.1)\n",
            "Collecting gast==0.2.2\n",
            "  Downloading https://files.pythonhosted.org/packages/4e/35/11749bf99b2d4e3cceb4d55ca22590b0d7c2c62b9de38ac4a4a7f4687421/gast-0.2.2.tar.gz\n",
            "Requirement already satisfied: setuptools>=41.0.0 in /usr/local/lib/python3.6/dist-packages (from tensorboard<2.2.0,>=2.1.0->tensorflow==2.1.0) (50.3.2)\n",
            "Requirement already satisfied: requests<3,>=2.21.0 in /usr/local/lib/python3.6/dist-packages (from tensorboard<2.2.0,>=2.1.0->tensorflow==2.1.0) (2.23.0)\n",
            "Requirement already satisfied: google-auth<2,>=1.6.3 in /usr/local/lib/python3.6/dist-packages (from tensorboard<2.2.0,>=2.1.0->tensorflow==2.1.0) (1.17.2)\n",
            "Requirement already satisfied: werkzeug>=0.11.15 in /usr/local/lib/python3.6/dist-packages (from tensorboard<2.2.0,>=2.1.0->tensorflow==2.1.0) (1.0.1)\n",
            "Requirement already satisfied: markdown>=2.6.8 in /usr/local/lib/python3.6/dist-packages (from tensorboard<2.2.0,>=2.1.0->tensorflow==2.1.0) (3.3.3)\n",
            "Requirement already satisfied: google-auth-oauthlib<0.5,>=0.4.1 in /usr/local/lib/python3.6/dist-packages (from tensorboard<2.2.0,>=2.1.0->tensorflow==2.1.0) (0.4.2)\n",
            "Requirement already satisfied: h5py in /usr/local/lib/python3.6/dist-packages (from keras-applications>=1.0.8->tensorflow==2.1.0) (2.10.0)\n",
            "Requirement already satisfied: chardet<4,>=3.0.2 in /usr/local/lib/python3.6/dist-packages (from requests<3,>=2.21.0->tensorboard<2.2.0,>=2.1.0->tensorflow==2.1.0) (3.0.4)\n",
            "Requirement already satisfied: certifi>=2017.4.17 in /usr/local/lib/python3.6/dist-packages (from requests<3,>=2.21.0->tensorboard<2.2.0,>=2.1.0->tensorflow==2.1.0) (2020.6.20)\n",
            "Requirement already satisfied: urllib3!=1.25.0,!=1.25.1,<1.26,>=1.21.1 in /usr/local/lib/python3.6/dist-packages (from requests<3,>=2.21.0->tensorboard<2.2.0,>=2.1.0->tensorflow==2.1.0) (1.24.3)\n",
            "Requirement already satisfied: idna<3,>=2.5 in /usr/local/lib/python3.6/dist-packages (from requests<3,>=2.21.0->tensorboard<2.2.0,>=2.1.0->tensorflow==2.1.0) (2.10)\n",
            "Requirement already satisfied: rsa<5,>=3.1.4; python_version >= \"3\" in /usr/local/lib/python3.6/dist-packages (from google-auth<2,>=1.6.3->tensorboard<2.2.0,>=2.1.0->tensorflow==2.1.0) (4.6)\n",
            "Requirement already satisfied: cachetools<5.0,>=2.0.0 in /usr/local/lib/python3.6/dist-packages (from google-auth<2,>=1.6.3->tensorboard<2.2.0,>=2.1.0->tensorflow==2.1.0) (4.1.1)\n",
            "Requirement already satisfied: pyasn1-modules>=0.2.1 in /usr/local/lib/python3.6/dist-packages (from google-auth<2,>=1.6.3->tensorboard<2.2.0,>=2.1.0->tensorflow==2.1.0) (0.2.8)\n",
            "Requirement already satisfied: importlib-metadata; python_version < \"3.8\" in /usr/local/lib/python3.6/dist-packages (from markdown>=2.6.8->tensorboard<2.2.0,>=2.1.0->tensorflow==2.1.0) (2.0.0)\n",
            "Requirement already satisfied: requests-oauthlib>=0.7.0 in /usr/local/lib/python3.6/dist-packages (from google-auth-oauthlib<0.5,>=0.4.1->tensorboard<2.2.0,>=2.1.0->tensorflow==2.1.0) (1.3.0)\n",
            "Requirement already satisfied: pyasn1>=0.1.3 in /usr/local/lib/python3.6/dist-packages (from rsa<5,>=3.1.4; python_version >= \"3\"->google-auth<2,>=1.6.3->tensorboard<2.2.0,>=2.1.0->tensorflow==2.1.0) (0.4.8)\n",
            "Requirement already satisfied: zipp>=0.5 in /usr/local/lib/python3.6/dist-packages (from importlib-metadata; python_version < \"3.8\"->markdown>=2.6.8->tensorboard<2.2.0,>=2.1.0->tensorflow==2.1.0) (3.4.0)\n",
            "Requirement already satisfied: oauthlib>=3.0.0 in /usr/local/lib/python3.6/dist-packages (from requests-oauthlib>=0.7.0->google-auth-oauthlib<0.5,>=0.4.1->tensorboard<2.2.0,>=2.1.0->tensorflow==2.1.0) (3.1.0)\n",
            "Building wheels for collected packages: gast\n",
            "  Building wheel for gast (setup.py) ... \u001b[?25l\u001b[?25hdone\n",
            "  Created wheel for gast: filename=gast-0.2.2-cp36-none-any.whl size=7542 sha256=ad53a22097b7548adc8f8bd7e56a7feeb13bdde87cda9f62ad33c28de39d9814\n",
            "  Stored in directory: /root/.cache/pip/wheels/5c/2e/7e/a1d4d4fcebe6c381f378ce7743a3ced3699feb89bcfbdadadd\n",
            "Successfully built gast\n",
            "\u001b[31mERROR: tensorflow-probability 0.11.0 has requirement gast>=0.3.2, but you'll have gast 0.2.2 which is incompatible.\u001b[0m\n",
            "Installing collected packages: tensorflow-estimator, tensorboard, keras-applications, gast, tensorflow\n",
            "  Found existing installation: tensorflow-estimator 2.3.0\n",
            "    Uninstalling tensorflow-estimator-2.3.0:\n",
            "      Successfully uninstalled tensorflow-estimator-2.3.0\n",
            "  Found existing installation: tensorboard 2.3.0\n",
            "    Uninstalling tensorboard-2.3.0:\n",
            "      Successfully uninstalled tensorboard-2.3.0\n",
            "  Found existing installation: gast 0.3.3\n",
            "    Uninstalling gast-0.3.3:\n",
            "      Successfully uninstalled gast-0.3.3\n",
            "  Found existing installation: tensorflow 2.3.0\n",
            "    Uninstalling tensorflow-2.3.0:\n",
            "      Successfully uninstalled tensorflow-2.3.0\n",
            "Successfully installed gast-0.2.2 keras-applications-1.0.8 tensorboard-2.1.1 tensorflow-2.1.0 tensorflow-estimator-2.1.0\n"
          ],
          "name": "stdout"
        },
        {
          "output_type": "display_data",
          "data": {
            "application/vnd.colab-display-data+json": {
              "pip_warning": {
                "packages": [
                  "gast",
                  "tensorboard",
                  "tensorflow"
                ]
              }
            }
          },
          "metadata": {
            "tags": []
          }
        }
      ]
    },
    {
      "cell_type": "code",
      "metadata": {
        "id": "xSjRPHtUoAXz",
        "colab": {
          "base_uri": "https://localhost:8080/",
          "height": 35
        },
        "outputId": "c0c45824-c431-4f6b-e0e4-2c8c1f3455a7"
      },
      "source": [
        "tf.__version__"
      ],
      "execution_count": null,
      "outputs": [
        {
          "output_type": "execute_result",
          "data": {
            "application/vnd.google.colaboratory.intrinsic+json": {
              "type": "string"
            },
            "text/plain": [
              "'2.1.0'"
            ]
          },
          "metadata": {
            "tags": []
          },
          "execution_count": 4
        }
      ]
    },
    {
      "cell_type": "code",
      "metadata": {
        "id": "5V3211lTyRF7"
      },
      "source": [
        "test_dir = '/content/drive/My Drive/chest_x-ray/chest_xray/chest_xray/test/'\n",
        "train_dir = '/content/drive/My Drive/chest_x-ray/chest_xray/chest_xray/train/'\n",
        "valid_dir =  '/content/drive/My Drive/chest_x-ray/chest_xray/chest_xray/val/'\n",
        "\n",
        "train_normal_size = len(os.listdir('/content/drive/My Drive/chest_x-ray/chest_xray/chest_xray/train/' + 'NORMAL/'))\n",
        "train_pneumonia_size = len(os.listdir('/content/drive/My Drive/chest_x-ray/chest_xray/chest_xray/train/' + 'PNEUMONIA/'))\n",
        "\n",
        "test_normal_size = len(os.listdir('/content/drive/My Drive/chest_x-ray/chest_xray/chest_xray/test/' + 'NORMAL/'))\n",
        "test_pneumonia_size = len(os.listdir('/content/drive/My Drive/chest_x-ray/chest_xray/chest_xray/test/' + 'PNEUMONIA/'))\n",
        "\n",
        "val_normal_size = len(os.listdir('/content/drive/My Drive/chest_x-ray/chest_xray/chest_xray/val/' + 'NORMAL/'))\n",
        "val_pneumonia_size = len(os.listdir('/content/drive/My Drive/chest_x-ray/chest_xray/chest_xray/val/' + 'PNEUMONIA/'))"
      ],
      "execution_count": null,
      "outputs": []
    },
    {
      "cell_type": "code",
      "metadata": {
        "id": "pplARDUWzLZ0",
        "colab": {
          "base_uri": "https://localhost:8080/",
          "height": 350
        },
        "outputId": "bb6ee93b-9479-4455-c4bd-d31f1b6c610b"
      },
      "source": [
        "fig = plt.figure(figsize = (10, 5)) \n",
        "  \n",
        "# creating the bar plot \n",
        "plt.bar(['Train','Val','Test'],[train_normal_size+train_pneumonia_size,val_normal_size+val_pneumonia_size,test_normal_size+test_pneumonia_size], color ='maroon',  \n",
        "        width = 0.4) \n",
        "  \n",
        "plt.xlabel(\"sets\") \n",
        "plt.ylabel(\"No. of images per set\") \n",
        "plt.title(\"Images per class\") \n",
        "plt.show() "
      ],
      "execution_count": null,
      "outputs": [
        {
          "output_type": "display_data",
          "data": {
            "image/png": "[encoded data removed]",
            "text/plain": [
              "<Figure size 720x360 with 1 Axes>"
            ]
          },
          "metadata": {
            "tags": [],
            "needs_background": "light"
          }
        }
      ]
    },
    {
      "cell_type": "code",
      "metadata": {
        "id": "cZIIGtjJ04in",
        "colab": {
          "base_uri": "https://localhost:8080/",
          "height": 350
        },
        "outputId": "c5369ea8-e138-4b3e-9b83-e6357e8726b9"
      },
      "source": [
        "fig = plt.figure(figsize = (10, 5)) \n",
        "  \n",
        "# creating the bar plot \n",
        "plt.bar(['normal','pneumonia'],[train_normal_size,train_pneumonia_size], color ='maroon',  \n",
        "        width = 0.4) \n",
        "  \n",
        "plt.xlabel(\"Classes\") \n",
        "plt.ylabel(\"No. of images per class\") \n",
        "plt.title(\"Train set\") \n",
        "plt.show() "
      ],
      "execution_count": null,
      "outputs": [
        {
          "output_type": "display_data",
          "data": {
            "image/png": "[encoded data removed]",
            "text/plain": [
              "<Figure size 720x360 with 1 Axes>"
            ]
          },
          "metadata": {
            "tags": [],
            "needs_background": "light"
          }
        }
      ]
    },
    {
      "cell_type": "code",
      "metadata": {
        "id": "AYkoZWQ11Oq8",
        "colab": {
          "base_uri": "https://localhost:8080/",
          "height": 350
        },
        "outputId": "f285a9f4-152c-47f3-9ea2-9862c4c54ad0"
      },
      "source": [
        "fig = plt.figure(figsize = (10, 5)) \n",
        "  \n",
        "# creating the bar plot \n",
        "plt.bar(['normal','pneumonia'],[test_normal_size,test_pneumonia_size], color ='maroon',  \n",
        "        width = 0.4) \n",
        "  \n",
        "plt.xlabel(\"Classes\") \n",
        "plt.ylabel(\"No. of images per class\") \n",
        "plt.title(\"Test set\") \n",
        "plt.show() "
      ],
      "execution_count": null,
      "outputs": [
        {
          "output_type": "display_data",
          "data": {
            "image/png": "[encoded data removed]",
            "text/plain": [
              "<Figure size 720x360 with 1 Axes>"
            ]
          },
          "metadata": {
            "tags": [],
            "needs_background": "light"
          }
        }
      ]
    },
    {
      "cell_type": "code",
      "metadata": {
        "id": "aB9PTur31W4a",
        "colab": {
          "base_uri": "https://localhost:8080/",
          "height": 350
        },
        "outputId": "7e747705-a5d8-44c1-9fb5-c7a56bbb8e07"
      },
      "source": [
        "fig = plt.figure(figsize = (10, 5)) \n",
        "  \n",
        "# creating the bar plot \n",
        "plt.bar(['normal','pneumonia'],[val_normal_size,val_pneumonia_size], color ='maroon',  \n",
        "        width = 0.4) \n",
        "  \n",
        "plt.xlabel(\"Classes\") \n",
        "plt.ylabel(\"No. of images per class\") \n",
        "plt.title(\"val set\") \n",
        "plt.show() "
      ],
      "execution_count": null,
      "outputs": [
        {
          "output_type": "display_data",
          "data": {
            "image/png": "[encoded data removed]",
            "text/plain": [
              "<Figure size 720x360 with 1 Axes>"
            ]
          },
          "metadata": {
            "tags": [],
            "needs_background": "light"
          }
        }
      ]
    },
    {
      "cell_type": "code",
      "metadata": {
        "id": "guNMkhPr1ksj",
        "colab": {
          "base_uri": "https://localhost:8080/",
          "height": 589
        },
        "outputId": "eefa5d7f-bd3f-456a-c6bf-63808c434133"
      },
      "source": [
        "#view training images\n",
        "i = 0\n",
        "for image in os.listdir(train_dir + 'NORMAL/')[0:5]:\n",
        "  plt.figure(figsize=(10,10))\n",
        "  plt.subplot(1,5,i+1)\n",
        "  plt.imshow(cv2.imread(train_dir + 'NORMAL/' + image))\n",
        "  plt.show()\n",
        "  i+=1\n"
      ],
      "execution_count": null,
      "outputs": [
        {
          "output_type": "display_data",
          "data": {
            "image/png": "[encoded data removed]",
            "text/plain": [
              "<Figure size 720x720 with 1 Axes>"
            ]
          },
          "metadata": {
            "tags": [],
            "needs_background": "light"
          }
        },
        {
          "output_type": "display_data",
          "data": {
            "image/png": "[encoded data removed]",
            "text/plain": [
              "<Figure size 720x720 with 1 Axes>"
            ]
          },
          "metadata": {
            "tags": [],
            "needs_background": "light"
          }
        },
        {
          "output_type": "display_data",
          "data": {
            "image/png": "[encoded data removed]",
            "text/plain": [
              "<Figure size 720x720 with 1 Axes>"
            ]
          },
          "metadata": {
            "tags": [],
            "needs_background": "light"
          }
        },
        {
          "output_type": "display_data",
          "data": {
            "image/png": "[encoded data removed]",
            "text/plain": [
              "<Figure size 720x720 with 1 Axes>"
            ]
          },
          "metadata": {
            "tags": [],
            "needs_background": "light"
          }
        },
        {
          "output_type": "display_data",
          "data": {
            "image/png": "[encoded data removed]",
            "text/plain": [
              "<Figure size 720x720 with 1 Axes>"
            ]
          },
          "metadata": {
            "tags": [],
            "needs_background": "light"
          }
        }
      ]
    },
    {
      "cell_type": "code",
      "metadata": {
        "id": "8vyrxBN_2lyt",
        "colab": {
          "base_uri": "https://localhost:8080/",
          "height": 629
        },
        "outputId": "7aa4571f-fc50-458b-ec51-589a1e9b1c9e"
      },
      "source": [
        "i = 0\n",
        "for image in os.listdir(train_dir + 'PNEUMONIA/')[0:5]:\n",
        "  plt.figure(figsize=(15,15))\n",
        "  plt.subplot(1,5,i+1)\n",
        "  plt.imshow(cv2.imread(train_dir + 'PNEUMONIA/' + image))\n",
        "  plt.show()\n",
        "  i+=1\n"
      ],
      "execution_count": null,
      "outputs": [
        {
          "output_type": "display_data",
          "data": {
            "image/png": "[encoded data removed]",
            "text/plain": [
              "<Figure size 1080x1080 with 1 Axes>"
            ]
          },
          "metadata": {
            "tags": [],
            "needs_background": "light"
          }
        },
        {
          "output_type": "display_data",
          "data": {
            "image/png": "[encoded data removed]",
            "text/plain": [
              "<Figure size 1080x1080 with 1 Axes>"
            ]
          },
          "metadata": {
            "tags": [],
            "needs_background": "light"
          }
        },
        {
          "output_type": "display_data",
          "data": {
            "image/png": "[encoded data removed]",
            "text/plain": [
              "<Figure size 1080x1080 with 1 Axes>"
            ]
          },
          "metadata": {
            "tags": [],
            "needs_background": "light"
          }
        },
        {
          "output_type": "display_data",
          "data": {
            "image/png": "[encoded data removed]",
            "text/plain": [
              "<Figure size 1080x1080 with 1 Axes>"
            ]
          },
          "metadata": {
            "tags": [],
            "needs_background": "light"
          }
        },
        {
          "output_type": "display_data",
          "data": {
            "image/png": "[encoded data removed]",
            "text/plain": [
              "<Figure size 1080x1080 with 1 Axes>"
            ]
          },
          "metadata": {
            "tags": [],
            "needs_background": "light"
          }
        }
      ]
    },
    {
      "cell_type": "code",
      "metadata": {
        "id": "oe9s2w2k6HRT"
      },
      "source": [
        "vgg  = tf.keras.applications.VGG19(input_shape=[224,224] + [3], weights='imagenet', include_top=False)"
      ],
      "execution_count": null,
      "outputs": []
    },
    {
      "cell_type": "code",
      "metadata": {
        "id": "Ci_pCTky7Ze8",
        "colab": {
          "base_uri": "https://localhost:8080/"
        },
        "outputId": "76c2de9d-90e7-4fe5-e093-a08c7e2caea2"
      },
      "source": [
        "vgg.summary()"
      ],
      "execution_count": null,
      "outputs": [
        {
          "output_type": "stream",
          "text": [
            "Model: \"vgg19\"\n",
            "_________________________________________________________________\n",
            "Layer (type)                 Output Shape              Param #   \n",
            "=================================================================\n",
            "input_15 (InputLayer)        [(None, 224, 224, 3)]     0         \n",
            "_________________________________________________________________\n",
            "block1_conv1 (Conv2D)        (None, 224, 224, 64)      1792      \n",
            "_________________________________________________________________\n",
            "block1_conv2 (Conv2D)        (None, 224, 224, 64)      36928     \n",
            "_________________________________________________________________\n",
            "block1_pool (MaxPooling2D)   (None, 112, 112, 64)      0         \n",
            "_________________________________________________________________\n",
            "block2_conv1 (Conv2D)        (None, 112, 112, 128)     73856     \n",
            "_________________________________________________________________\n",
            "block2_conv2 (Conv2D)        (None, 112, 112, 128)     147584    \n",
            "_________________________________________________________________\n",
            "block2_pool (MaxPooling2D)   (None, 56, 56, 128)       0         \n",
            "_________________________________________________________________\n",
            "block3_conv1 (Conv2D)        (None, 56, 56, 256)       295168    \n",
            "_________________________________________________________________\n",
            "block3_conv2 (Conv2D)        (None, 56, 56, 256)       590080    \n",
            "_________________________________________________________________\n",
            "block3_conv3 (Conv2D)        (None, 56, 56, 256)       590080    \n",
            "_________________________________________________________________\n",
            "block3_conv4 (Conv2D)        (None, 56, 56, 256)       590080    \n",
            "_________________________________________________________________\n",
            "block3_pool (MaxPooling2D)   (None, 28, 28, 256)       0         \n",
            "_________________________________________________________________\n",
            "block4_conv1 (Conv2D)        (None, 28, 28, 512)       1180160   \n",
            "_________________________________________________________________\n",
            "block4_conv2 (Conv2D)        (None, 28, 28, 512)       2359808   \n",
            "_________________________________________________________________\n",
            "block4_conv3 (Conv2D)        (None, 28, 28, 512)       2359808   \n",
            "_________________________________________________________________\n",
            "block4_conv4 (Conv2D)        (None, 28, 28, 512)       2359808   \n",
            "_________________________________________________________________\n",
            "block4_pool (MaxPooling2D)   (None, 14, 14, 512)       0         \n",
            "_________________________________________________________________\n",
            "block5_conv1 (Conv2D)        (None, 14, 14, 512)       2359808   \n",
            "_________________________________________________________________\n",
            "block5_conv2 (Conv2D)        (None, 14, 14, 512)       2359808   \n",
            "_________________________________________________________________\n",
            "block5_conv3 (Conv2D)        (None, 14, 14, 512)       2359808   \n",
            "_________________________________________________________________\n",
            "block5_conv4 (Conv2D)        (None, 14, 14, 512)       2359808   \n",
            "_________________________________________________________________\n",
            "block5_pool (MaxPooling2D)   (None, 7, 7, 512)         0         \n",
            "=================================================================\n",
            "Total params: 20,024,384\n",
            "Trainable params: 20,024,384\n",
            "Non-trainable params: 0\n",
            "_________________________________________________________________\n"
          ],
          "name": "stdout"
        }
      ]
    },
    {
      "cell_type": "code",
      "metadata": {
        "id": "btw-Rzq08elE"
      },
      "source": [
        "for layer in vgg.layers:\n",
        "  layer.trainable = False\n"
      ],
      "execution_count": null,
      "outputs": []
    },
    {
      "cell_type": "code",
      "metadata": {
        "id": "qf-pRY4O9lJ0"
      },
      "source": [
        "x = tf.keras.layers.Flatten()(vgg.output)\n",
        "x = tf.keras.layers.Dense(128,activation = 'relu')(x)\n",
        "x = tf.keras.layers.Dropout(0.4)(x)\n",
        "x = tf.keras.layers.Dense(1, activation='sigmoid')(x)\n",
        "\n",
        "# create a model object\n",
        "model = tf.keras.Model(inputs=vgg.input, outputs=x)"
      ],
      "execution_count": null,
      "outputs": []
    },
    {
      "cell_type": "code",
      "metadata": {
        "id": "t3N64TKVjBGL",
        "colab": {
          "base_uri": "https://localhost:8080/"
        },
        "outputId": "b106f440-e6b1-4a8d-ac94-9968576f4ae3"
      },
      "source": [
        "vgg.input"
      ],
      "execution_count": null,
      "outputs": [
        {
          "output_type": "execute_result",
          "data": {
            "text/plain": [
              "<tf.Tensor 'input_15:0' shape=(None, 224, 224, 3) dtype=float32>"
            ]
          },
          "metadata": {
            "tags": []
          },
          "execution_count": 275
        }
      ]
    },
    {
      "cell_type": "code",
      "metadata": {
        "id": "hLCIja2G942g",
        "colab": {
          "base_uri": "https://localhost:8080/"
        },
        "outputId": "9649bd07-befe-4367-abec-b9df24d92b27"
      },
      "source": [
        "model.summary()"
      ],
      "execution_count": null,
      "outputs": [
        {
          "output_type": "stream",
          "text": [
            "Model: \"model_17\"\n",
            "_________________________________________________________________\n",
            "Layer (type)                 Output Shape              Param #   \n",
            "=================================================================\n",
            "input_15 (InputLayer)        [(None, 224, 224, 3)]     0         \n",
            "_________________________________________________________________\n",
            "block1_conv1 (Conv2D)        (None, 224, 224, 64)      1792      \n",
            "_________________________________________________________________\n",
            "block1_conv2 (Conv2D)        (None, 224, 224, 64)      36928     \n",
            "_________________________________________________________________\n",
            "block1_pool (MaxPooling2D)   (None, 112, 112, 64)      0         \n",
            "_________________________________________________________________\n",
            "block2_conv1 (Conv2D)        (None, 112, 112, 128)     73856     \n",
            "_________________________________________________________________\n",
            "block2_conv2 (Conv2D)        (None, 112, 112, 128)     147584    \n",
            "_________________________________________________________________\n",
            "block2_pool (MaxPooling2D)   (None, 56, 56, 128)       0         \n",
            "_________________________________________________________________\n",
            "block3_conv1 (Conv2D)        (None, 56, 56, 256)       295168    \n",
            "_________________________________________________________________\n",
            "block3_conv2 (Conv2D)        (None, 56, 56, 256)       590080    \n",
            "_________________________________________________________________\n",
            "block3_conv3 (Conv2D)        (None, 56, 56, 256)       590080    \n",
            "_________________________________________________________________\n",
            "block3_conv4 (Conv2D)        (None, 56, 56, 256)       590080    \n",
            "_________________________________________________________________\n",
            "block3_pool (MaxPooling2D)   (None, 28, 28, 256)       0         \n",
            "_________________________________________________________________\n",
            "block4_conv1 (Conv2D)        (None, 28, 28, 512)       1180160   \n",
            "_________________________________________________________________\n",
            "block4_conv2 (Conv2D)        (None, 28, 28, 512)       2359808   \n",
            "_________________________________________________________________\n",
            "block4_conv3 (Conv2D)        (None, 28, 28, 512)       2359808   \n",
            "_________________________________________________________________\n",
            "block4_conv4 (Conv2D)        (None, 28, 28, 512)       2359808   \n",
            "_________________________________________________________________\n",
            "block4_pool (MaxPooling2D)   (None, 14, 14, 512)       0         \n",
            "_________________________________________________________________\n",
            "block5_conv1 (Conv2D)        (None, 14, 14, 512)       2359808   \n",
            "_________________________________________________________________\n",
            "block5_conv2 (Conv2D)        (None, 14, 14, 512)       2359808   \n",
            "_________________________________________________________________\n",
            "block5_conv3 (Conv2D)        (None, 14, 14, 512)       2359808   \n",
            "_________________________________________________________________\n",
            "block5_conv4 (Conv2D)        (None, 14, 14, 512)       2359808   \n",
            "_________________________________________________________________\n",
            "block5_pool (MaxPooling2D)   (None, 7, 7, 512)         0         \n",
            "_________________________________________________________________\n",
            "flatten_19 (Flatten)         (None, 25088)             0         \n",
            "_________________________________________________________________\n",
            "dense_35 (Dense)             (None, 128)               3211392   \n",
            "_________________________________________________________________\n",
            "dropout_19 (Dropout)         (None, 128)               0         \n",
            "_________________________________________________________________\n",
            "dense_36 (Dense)             (None, 1)                 129       \n",
            "=================================================================\n",
            "Total params: 23,235,905\n",
            "Trainable params: 3,211,521\n",
            "Non-trainable params: 20,024,384\n",
            "_________________________________________________________________\n"
          ],
          "name": "stdout"
        }
      ]
    },
    {
      "cell_type": "code",
      "metadata": {
        "id": "ZIQVAAz1-YXC"
      },
      "source": [
        "preprocess_input = tf.keras.applications.vgg19.preprocess_input"
      ],
      "execution_count": null,
      "outputs": []
    },
    {
      "cell_type": "code",
      "metadata": {
        "id": "w6UD8CNA9-K4",
        "colab": {
          "base_uri": "https://localhost:8080/"
        },
        "outputId": "335c33b2-ada3-4761-afd0-4d2c850d0bfc"
      },
      "source": [
        "# Generate batches of tensor image data with real-time data augmentation.\n",
        "\n",
        "#augmentation steps taken from https://www.kaggle.com/madz2000/pneumonia-detection-using-cnn-92-6-accuracy\n",
        "train_gen = tf.keras.preprocessing.image.ImageDataGenerator(\n",
        "        rescale = 1.0/255.0,\n",
        "        preprocessing_function = preprocess_input,\n",
        "        featurewise_center=False,  # set input mean to 0 over the dataset\n",
        "        samplewise_center=False,  # set each sample mean to 0\n",
        "        featurewise_std_normalization=False,  # divide inputs by std of the dataset\n",
        "        samplewise_std_normalization=False,  # divide each input by its std\n",
        "        zca_whitening=False,  # apply ZCA whitening\n",
        "        rotation_range = 30,  # randomly rotate images in the range (degrees, 0 to 180)\n",
        "        zoom_range = 0.2, # Randomly zoom image \n",
        "        width_shift_range=0.1,  # randomly shift images horizontally (fraction of total width)\n",
        "        height_shift_range=0.1,  # randomly shift images vertically (fraction of total height)\n",
        "        horizontal_flip = True,  # randomly flip images\n",
        "        vertical_flip=False)  # randomly flip images\n",
        "\n",
        "valid_gen = tf.keras.preprocessing.image.ImageDataGenerator(rescale=1/255.0, preprocessing_function = preprocess_input)\n",
        "test_gen = tf.keras.preprocessing.image.ImageDataGenerator(rescale=1/255.0, preprocessing_function = preprocess_input)\n",
        "\n",
        "train_batches = train_gen.flow_from_directory(\n",
        "    '/content/drive/My Drive/chest_x-ray/chest_xray/chest_xray/train',\n",
        "    target_size=(224, 224),\n",
        "    batch_size=32,\n",
        "    shuffle=True,\n",
        "    class_mode = 'binary', \n",
        "    \n",
        ")\n",
        "\n",
        "val_batches = valid_gen.flow_from_directory(\n",
        "    '/content/drive/My Drive/chest_x-ray/chest_xray/chest_xray/val',\n",
        "    target_size=(224, 224),\n",
        "    shuffle=True,\n",
        "    class_mode = 'binary', \n",
        "    \n",
        ")\n",
        "\n",
        "test_batches = test_gen.flow_from_directory(\n",
        "    '/content/drive/My Drive/chest_x-ray/chest_xray/chest_xray/test',\n",
        "    target_size=(224, 224),\n",
        "    shuffle=True,\n",
        "    class_mode = 'binary', \n",
        "    \n",
        ")"
      ],
      "execution_count": null,
      "outputs": [
        {
          "output_type": "stream",
          "text": [
            "Found 5216 images belonging to 2 classes.\n",
            "Found 16 images belonging to 2 classes.\n",
            "Found 624 images belonging to 2 classes.\n"
          ],
          "name": "stdout"
        }
      ]
    },
    {
      "cell_type": "code",
      "metadata": {
        "id": "bxdObjbNIsH5"
      },
      "source": [
        "loss = tf.keras.losses.BinaryCrossentropy()\n",
        "optim = tf.keras.optimizers.RMSprop()\n",
        "metrics = [\"accuracy\"]\n",
        "model.compile(optimizer=optim, loss=loss, metrics=metrics)"
      ],
      "execution_count": null,
      "outputs": []
    },
    {
      "cell_type": "code",
      "metadata": {
        "id": "x45NCdaznMRr"
      },
      "source": [
        "# Define a Callback class that stops training once accuracy reaches 97.0%\n",
        "# class myCallback(tf.keras.callbacks.Callback):\n",
        "#   def on_epoch_end(self, epoch, logs={}):\n",
        "#     if(logs.get('accuracy')>=0.98):\n",
        "#       print(\"\\nReached 98.0% accuracy so cancelling training!\")\n",
        "#       self.model.stop_training = True\n"
      ],
      "execution_count": null,
      "outputs": []
    },
    {
      "cell_type": "code",
      "metadata": {
        "id": "Xbh_9LCwnSmz"
      },
      "source": [
        "# callbacks =myCallback()"
      ],
      "execution_count": null,
      "outputs": []
    },
    {
      "cell_type": "code",
      "metadata": {
        "id": "JyNgBGguC4Si",
        "colab": {
          "base_uri": "https://localhost:8080/"
        },
        "outputId": "3bad4df8-b792-408b-e64f-ddc9056474d3"
      },
      "source": [
        "epochs = 15\n",
        "history = model.fit(train_batches, validation_data=val_batches,\n",
        "          epochs=epochs, verbose=1)"
      ],
      "execution_count": null,
      "outputs": [
        {
          "output_type": "stream",
          "text": [
            "WARNING:tensorflow:sample_weight modes were coerced from\n",
            "  ...\n",
            "    to  \n",
            "  ['...']\n",
            "WARNING:tensorflow:sample_weight modes were coerced from\n",
            "  ...\n",
            "    to  \n",
            "  ['...']\n",
            "Train for 163 steps, validate for 1 steps\n",
            "Epoch 1/15\n",
            "163/163 [==============================] - 109s 666ms/step - loss: 0.5474 - accuracy: 0.8407 - val_loss: 1.1250 - val_accuracy: 0.6875\n",
            "Epoch 2/15\n",
            "163/163 [==============================] - 107s 659ms/step - loss: 0.2725 - accuracy: 0.8898 - val_loss: 0.4370 - val_accuracy: 0.7500\n",
            "Epoch 3/15\n",
            "163/163 [==============================] - 107s 656ms/step - loss: 0.2328 - accuracy: 0.9059 - val_loss: 0.4366 - val_accuracy: 0.8125\n",
            "Epoch 4/15\n",
            "163/163 [==============================] - 107s 656ms/step - loss: 0.2144 - accuracy: 0.9189 - val_loss: 0.3530 - val_accuracy: 0.8125\n",
            "Epoch 5/15\n",
            "163/163 [==============================] - 106s 653ms/step - loss: 0.2150 - accuracy: 0.9189 - val_loss: 0.3276 - val_accuracy: 0.8750\n",
            "Epoch 6/15\n",
            "163/163 [==============================] - 106s 653ms/step - loss: 0.2030 - accuracy: 0.9204 - val_loss: 0.3031 - val_accuracy: 0.8125\n",
            "Epoch 7/15\n",
            "163/163 [==============================] - 107s 654ms/step - loss: 0.1871 - accuracy: 0.9268 - val_loss: 0.2555 - val_accuracy: 0.8750\n",
            "Epoch 8/15\n",
            "163/163 [==============================] - 107s 655ms/step - loss: 0.1886 - accuracy: 0.9277 - val_loss: 0.3827 - val_accuracy: 0.8125\n",
            "Epoch 9/15\n",
            "163/163 [==============================] - 107s 655ms/step - loss: 0.1856 - accuracy: 0.9325 - val_loss: 0.3512 - val_accuracy: 0.8750\n",
            "Epoch 10/15\n",
            "163/163 [==============================] - 107s 657ms/step - loss: 0.1736 - accuracy: 0.9358 - val_loss: 0.2371 - val_accuracy: 0.8125\n",
            "Epoch 11/15\n",
            "163/163 [==============================] - 107s 657ms/step - loss: 0.1795 - accuracy: 0.9325 - val_loss: 0.5845 - val_accuracy: 0.7500\n",
            "Epoch 12/15\n",
            "163/163 [==============================] - 107s 657ms/step - loss: 0.1716 - accuracy: 0.9375 - val_loss: 0.2062 - val_accuracy: 0.9375\n",
            "Epoch 13/15\n",
            "163/163 [==============================] - 107s 656ms/step - loss: 0.1630 - accuracy: 0.9387 - val_loss: 0.2551 - val_accuracy: 0.8125\n",
            "Epoch 14/15\n",
            "163/163 [==============================] - 107s 654ms/step - loss: 0.1711 - accuracy: 0.9329 - val_loss: 0.1954 - val_accuracy: 0.9375\n",
            "Epoch 15/15\n",
            "163/163 [==============================] - 107s 655ms/step - loss: 0.1771 - accuracy: 0.9367 - val_loss: 0.2826 - val_accuracy: 0.8750\n"
          ],
          "name": "stdout"
        }
      ]
    },
    {
      "cell_type": "code",
      "metadata": {
        "id": "oep3iwWbDDGx",
        "colab": {
          "base_uri": "https://localhost:8080/"
        },
        "outputId": "1c6888b5-979e-4498-e493-3ff4693c549b"
      },
      "source": [
        "model.evaluate(test_batches, verbose=1)\n"
      ],
      "execution_count": null,
      "outputs": [
        {
          "output_type": "stream",
          "text": [
            "WARNING:tensorflow:sample_weight modes were coerced from\n",
            "  ...\n",
            "    to  \n",
            "  ['...']\n",
            "20/20 [==============================] - 7s 336ms/step - loss: 0.2572 - accuracy: 0.8926\n"
          ],
          "name": "stdout"
        },
        {
          "output_type": "execute_result",
          "data": {
            "text/plain": [
              "[0.25723275989294053, 0.8926282]"
            ]
          },
          "metadata": {
            "tags": []
          },
          "execution_count": 330
        }
      ]
    },
    {
      "cell_type": "code",
      "metadata": {
        "id": "voOuvI3t1GmR"
      },
      "source": [
        "pred = []\n",
        "dir = '/content/drive/My Drive/chest_x-ray/chest_xray/chest_xray/test/NORMAL/'\n",
        "for img in os.listdir(dir):\n",
        "  test = cv2.imread(dir + img)\n",
        "  test =test*(1/255.0)\n",
        "  test = cv2.resize(test,(224,224))\n",
        "  test = np.expand_dims(test,axis = 0)\n",
        "  test = model.predict(test)\n",
        "  pred.append(test[0])\n",
        "  pred.append(test[0]<=0.5)\n"
      ],
      "execution_count": null,
      "outputs": []
    },
    {
      "cell_type": "code",
      "metadata": {
        "id": "Rsug1ZOP2SH7",
        "colab": {
          "base_uri": "https://localhost:8080/"
        },
        "outputId": "d74a2614-0b07-4b20-bd09-85bf4315b262"
      },
      "source": [
        "pred"
      ],
      "execution_count": null,
      "outputs": [
        {
          "output_type": "execute_result",
          "data": {
            "text/plain": [
              "[array([0.0298483], dtype=float32),\n",
              " array([ True]),\n",
              " array([0.00098485], dtype=float32),\n",
              " array([ True]),\n",
              " array([0.00832456], dtype=float32),\n",
              " array([ True]),\n",
              " array([0.00493304], dtype=float32),\n",
              " array([ True]),\n",
              " array([0.00252167], dtype=float32),\n",
              " array([ True]),\n",
              " array([0.00137438], dtype=float32),\n",
              " array([ True]),\n",
              " array([0.00374648], dtype=float32),\n",
              " array([ True]),\n",
              " array([0.03171484], dtype=float32),\n",
              " array([ True]),\n",
              " array([0.02211532], dtype=float32),\n",
              " array([ True]),\n",
              " array([0.01557568], dtype=float32),\n",
              " array([ True]),\n",
              " array([0.01230012], dtype=float32),\n",
              " array([ True]),\n",
              " array([0.00193217], dtype=float32),\n",
              " array([ True]),\n",
              " array([0.02444127], dtype=float32),\n",
              " array([ True]),\n",
              " array([0.00085037], dtype=float32),\n",
              " array([ True]),\n",
              " array([0.04660626], dtype=float32),\n",
              " array([ True]),\n",
              " array([0.00447362], dtype=float32),\n",
              " array([ True]),\n",
              " array([0.02557971], dtype=float32),\n",
              " array([ True]),\n",
              " array([0.0096365], dtype=float32),\n",
              " array([ True]),\n",
              " array([0.00220751], dtype=float32),\n",
              " array([ True]),\n",
              " array([0.00524145], dtype=float32),\n",
              " array([ True]),\n",
              " array([0.99767107], dtype=float32),\n",
              " array([False]),\n",
              " array([5.2840296e-05], dtype=float32),\n",
              " array([ True]),\n",
              " array([0.02724406], dtype=float32),\n",
              " array([ True]),\n",
              " array([0.01645445], dtype=float32),\n",
              " array([ True]),\n",
              " array([0.0025702], dtype=float32),\n",
              " array([ True]),\n",
              " array([0.01644923], dtype=float32),\n",
              " array([ True]),\n",
              " array([0.00074972], dtype=float32),\n",
              " array([ True]),\n",
              " array([0.00427249], dtype=float32),\n",
              " array([ True]),\n",
              " array([0.00976069], dtype=float32),\n",
              " array([ True]),\n",
              " array([0.5800856], dtype=float32),\n",
              " array([False]),\n",
              " array([0.06040555], dtype=float32),\n",
              " array([ True]),\n",
              " array([0.01911695], dtype=float32),\n",
              " array([ True]),\n",
              " array([0.00586886], dtype=float32),\n",
              " array([ True]),\n",
              " array([0.00621297], dtype=float32),\n",
              " array([ True]),\n",
              " array([0.02486987], dtype=float32),\n",
              " array([ True]),\n",
              " array([0.51924044], dtype=float32),\n",
              " array([False]),\n",
              " array([0.01208037], dtype=float32),\n",
              " array([ True]),\n",
              " array([0.03941418], dtype=float32),\n",
              " array([ True]),\n",
              " array([0.06981844], dtype=float32),\n",
              " array([ True]),\n",
              " array([0.00526828], dtype=float32),\n",
              " array([ True]),\n",
              " array([0.01726849], dtype=float32),\n",
              " array([ True]),\n",
              " array([0.31461704], dtype=float32),\n",
              " array([ True]),\n",
              " array([0.20595019], dtype=float32),\n",
              " array([ True]),\n",
              " array([0.01547509], dtype=float32),\n",
              " array([ True]),\n",
              " array([0.00259134], dtype=float32),\n",
              " array([ True]),\n",
              " array([0.38944876], dtype=float32),\n",
              " array([ True]),\n",
              " array([0.00496529], dtype=float32),\n",
              " array([ True]),\n",
              " array([0.6987606], dtype=float32),\n",
              " array([False]),\n",
              " array([0.8304129], dtype=float32),\n",
              " array([False]),\n",
              " array([0.39528176], dtype=float32),\n",
              " array([ True]),\n",
              " array([0.6242742], dtype=float32),\n",
              " array([False]),\n",
              " array([0.06782411], dtype=float32),\n",
              " array([ True]),\n",
              " array([0.00047486], dtype=float32),\n",
              " array([ True]),\n",
              " array([0.18653888], dtype=float32),\n",
              " array([ True]),\n",
              " array([0.01500283], dtype=float32),\n",
              " array([ True]),\n",
              " array([0.19343893], dtype=float32),\n",
              " array([ True]),\n",
              " array([0.07082164], dtype=float32),\n",
              " array([ True]),\n",
              " array([0.10145544], dtype=float32),\n",
              " array([ True]),\n",
              " array([0.03526321], dtype=float32),\n",
              " array([ True]),\n",
              " array([0.00751627], dtype=float32),\n",
              " array([ True]),\n",
              " array([0.19541487], dtype=float32),\n",
              " array([ True]),\n",
              " array([0.06981844], dtype=float32),\n",
              " array([ True]),\n",
              " array([0.07723046], dtype=float32),\n",
              " array([ True]),\n",
              " array([0.03697164], dtype=float32),\n",
              " array([ True]),\n",
              " array([0.15167946], dtype=float32),\n",
              " array([ True]),\n",
              " array([0.00122112], dtype=float32),\n",
              " array([ True]),\n",
              " array([0.97250223], dtype=float32),\n",
              " array([False]),\n",
              " array([0.05049487], dtype=float32),\n",
              " array([ True]),\n",
              " array([0.28304127], dtype=float32),\n",
              " array([ True]),\n",
              " array([0.14294389], dtype=float32),\n",
              " array([ True]),\n",
              " array([0.17916429], dtype=float32),\n",
              " array([ True]),\n",
              " array([0.00116439], dtype=float32),\n",
              " array([ True]),\n",
              " array([0.12157191], dtype=float32),\n",
              " array([ True]),\n",
              " array([0.14314951], dtype=float32),\n",
              " array([ True]),\n",
              " array([0.9114263], dtype=float32),\n",
              " array([False]),\n",
              " array([0.08026303], dtype=float32),\n",
              " array([ True]),\n",
              " array([0.00041414], dtype=float32),\n",
              " array([ True]),\n",
              " array([0.00464312], dtype=float32),\n",
              " array([ True]),\n",
              " array([0.03994067], dtype=float32),\n",
              " array([ True]),\n",
              " array([0.06926128], dtype=float32),\n",
              " array([ True]),\n",
              " array([0.00012657], dtype=float32),\n",
              " array([ True]),\n",
              " array([0.07777618], dtype=float32),\n",
              " array([ True]),\n",
              " array([0.00662587], dtype=float32),\n",
              " array([ True]),\n",
              " array([0.01005534], dtype=float32),\n",
              " array([ True]),\n",
              " array([0.80967855], dtype=float32),\n",
              " array([False]),\n",
              " array([0.00823523], dtype=float32),\n",
              " array([ True]),\n",
              " array([0.10565501], dtype=float32),\n",
              " array([ True]),\n",
              " array([0.05498131], dtype=float32),\n",
              " array([ True]),\n",
              " array([0.00073312], dtype=float32),\n",
              " array([ True]),\n",
              " array([0.1249726], dtype=float32),\n",
              " array([ True]),\n",
              " array([0.8432412], dtype=float32),\n",
              " array([False]),\n",
              " array([0.02218213], dtype=float32),\n",
              " array([ True]),\n",
              " array([0.03251688], dtype=float32),\n",
              " array([ True]),\n",
              " array([0.00321855], dtype=float32),\n",
              " array([ True]),\n",
              " array([0.17281446], dtype=float32),\n",
              " array([ True]),\n",
              " array([0.40181422], dtype=float32),\n",
              " array([ True]),\n",
              " array([0.04254934], dtype=float32),\n",
              " array([ True]),\n",
              " array([0.15933314], dtype=float32),\n",
              " array([ True]),\n",
              " array([0.00063493], dtype=float32),\n",
              " array([ True]),\n",
              " array([0.04841897], dtype=float32),\n",
              " array([ True]),\n",
              " array([0.02188105], dtype=float32),\n",
              " array([ True]),\n",
              " array([0.02756844], dtype=float32),\n",
              " array([ True]),\n",
              " array([0.33964828], dtype=float32),\n",
              " array([ True]),\n",
              " array([0.00145488], dtype=float32),\n",
              " array([ True]),\n",
              " array([0.07936075], dtype=float32),\n",
              " array([ True]),\n",
              " array([0.01334966], dtype=float32),\n",
              " array([ True]),\n",
              " array([0.02582354], dtype=float32),\n",
              " array([ True]),\n",
              " array([0.23753631], dtype=float32),\n",
              " array([ True]),\n",
              " array([0.0473471], dtype=float32),\n",
              " array([ True]),\n",
              " array([0.00131789], dtype=float32),\n",
              " array([ True]),\n",
              " array([0.02649795], dtype=float32),\n",
              " array([ True]),\n",
              " array([0.0007219], dtype=float32),\n",
              " array([ True]),\n",
              " array([0.00466339], dtype=float32),\n",
              " array([ True]),\n",
              " array([0.00784715], dtype=float32),\n",
              " array([ True]),\n",
              " array([0.013615], dtype=float32),\n",
              " array([ True]),\n",
              " array([0.09522261], dtype=float32),\n",
              " array([ True]),\n",
              " array([0.19541487], dtype=float32),\n",
              " array([ True]),\n",
              " array([0.0274823], dtype=float32),\n",
              " array([ True]),\n",
              " array([0.01701371], dtype=float32),\n",
              " array([ True]),\n",
              " array([0.0710979], dtype=float32),\n",
              " array([ True]),\n",
              " array([0.05908453], dtype=float32),\n",
              " array([ True]),\n",
              " array([0.60216004], dtype=float32),\n",
              " array([False]),\n",
              " array([0.05421633], dtype=float32),\n",
              " array([ True]),\n",
              " array([0.00022698], dtype=float32),\n",
              " array([ True]),\n",
              " array([0.04823796], dtype=float32),\n",
              " array([ True]),\n",
              " array([0.1237355], dtype=float32),\n",
              " array([ True]),\n",
              " array([0.00687789], dtype=float32),\n",
              " array([ True]),\n",
              " array([0.05117092], dtype=float32),\n",
              " array([ True]),\n",
              " array([0.02054358], dtype=float32),\n",
              " array([ True]),\n",
              " array([0.14080936], dtype=float32),\n",
              " array([ True]),\n",
              " array([0.25027752], dtype=float32),\n",
              " array([ True]),\n",
              " array([0.9158442], dtype=float32),\n",
              " array([False]),\n",
              " array([0.08167925], dtype=float32),\n",
              " array([ True]),\n",
              " array([0.04771107], dtype=float32),\n",
              " array([ True]),\n",
              " array([0.0245531], dtype=float32),\n",
              " array([ True]),\n",
              " array([0.02738797], dtype=float32),\n",
              " array([ True]),\n",
              " array([0.99117684], dtype=float32),\n",
              " array([False]),\n",
              " array([0.04508553], dtype=float32),\n",
              " array([ True]),\n",
              " array([0.0696331], dtype=float32),\n",
              " array([ True]),\n",
              " array([0.07776162], dtype=float32),\n",
              " array([ True]),\n",
              " array([0.00667875], dtype=float32),\n",
              " array([ True]),\n",
              " array([0.03517731], dtype=float32),\n",
              " array([ True]),\n",
              " array([0.37156284], dtype=float32),\n",
              " array([ True]),\n",
              " array([0.00290419], dtype=float32),\n",
              " array([ True]),\n",
              " array([0.01261668], dtype=float32),\n",
              " array([ True]),\n",
              " array([0.07456032], dtype=float32),\n",
              " array([ True]),\n",
              " array([0.13760267], dtype=float32),\n",
              " array([ True]),\n",
              " array([0.00926779], dtype=float32),\n",
              " array([ True]),\n",
              " array([0.70702857], dtype=float32),\n",
              " array([False]),\n",
              " array([0.01784274], dtype=float32),\n",
              " array([ True]),\n",
              " array([0.08979172], dtype=float32),\n",
              " array([ True]),\n",
              " array([0.01239473], dtype=float32),\n",
              " array([ True]),\n",
              " array([0.02801309], dtype=float32),\n",
              " array([ True]),\n",
              " array([0.9910122], dtype=float32),\n",
              " array([False]),\n",
              " array([0.07432], dtype=float32),\n",
              " array([ True]),\n",
              " array([0.09679127], dtype=float32),\n",
              " array([ True]),\n",
              " array([0.881687], dtype=float32),\n",
              " array([False]),\n",
              " array([0.0150276], dtype=float32),\n",
              " array([ True]),\n",
              " array([0.00209044], dtype=float32),\n",
              " array([ True]),\n",
              " array([0.0188833], dtype=float32),\n",
              " array([ True]),\n",
              " array([0.03074466], dtype=float32),\n",
              " array([ True]),\n",
              " array([0.91055053], dtype=float32),\n",
              " array([False]),\n",
              " array([0.0171399], dtype=float32),\n",
              " array([ True]),\n",
              " array([0.05234861], dtype=float32),\n",
              " array([ True]),\n",
              " array([0.13683935], dtype=float32),\n",
              " array([ True]),\n",
              " array([0.12577233], dtype=float32),\n",
              " array([ True]),\n",
              " array([0.4105404], dtype=float32),\n",
              " array([ True]),\n",
              " array([0.00689564], dtype=float32),\n",
              " array([ True]),\n",
              " array([0.27545246], dtype=float32),\n",
              " array([ True]),\n",
              " array([0.00658249], dtype=float32),\n",
              " array([ True]),\n",
              " array([0.31380388], dtype=float32),\n",
              " array([ True]),\n",
              " array([0.01473122], dtype=float32),\n",
              " array([ True]),\n",
              " array([0.30677843], dtype=float32),\n",
              " array([ True]),\n",
              " array([0.1561083], dtype=float32),\n",
              " array([ True]),\n",
              " array([0.9067478], dtype=float32),\n",
              " array([False]),\n",
              " array([0.72438467], dtype=float32),\n",
              " array([False]),\n",
              " array([0.00132394], dtype=float32),\n",
              " array([ True]),\n",
              " array([0.23501404], dtype=float32),\n",
              " array([ True]),\n",
              " array([0.10095791], dtype=float32),\n",
              " array([ True]),\n",
              " array([0.02117011], dtype=float32),\n",
              " array([ True]),\n",
              " array([0.01183928], dtype=float32),\n",
              " array([ True]),\n",
              " array([0.18814927], dtype=float32),\n",
              " array([ True]),\n",
              " array([0.01651801], dtype=float32),\n",
              " array([ True]),\n",
              " array([0.0172291], dtype=float32),\n",
              " array([ True]),\n",
              " array([0.05660504], dtype=float32),\n",
              " array([ True]),\n",
              " array([0.77915204], dtype=float32),\n",
              " array([False]),\n",
              " array([0.10399731], dtype=float32),\n",
              " array([ True]),\n",
              " array([0.36485943], dtype=float32),\n",
              " array([ True]),\n",
              " array([0.27342916], dtype=float32),\n",
              " array([ True]),\n",
              " array([0.22093843], dtype=float32),\n",
              " array([ True]),\n",
              " array([0.0410422], dtype=float32),\n",
              " array([ True]),\n",
              " array([0.05000419], dtype=float32),\n",
              " array([ True]),\n",
              " array([0.00444316], dtype=float32),\n",
              " array([ True]),\n",
              " array([0.14172801], dtype=float32),\n",
              " array([ True]),\n",
              " array([0.44064614], dtype=float32),\n",
              " array([ True]),\n",
              " array([0.00614408], dtype=float32),\n",
              " array([ True]),\n",
              " array([0.05327816], dtype=float32),\n",
              " array([ True]),\n",
              " array([0.05374261], dtype=float32),\n",
              " array([ True]),\n",
              " array([0.19976777], dtype=float32),\n",
              " array([ True]),\n",
              " array([0.23353674], dtype=float32),\n",
              " array([ True]),\n",
              " array([0.12250862], dtype=float32),\n",
              " array([ True]),\n",
              " array([0.9955837], dtype=float32),\n",
              " array([False]),\n",
              " array([0.00733332], dtype=float32),\n",
              " array([ True]),\n",
              " array([0.06335099], dtype=float32),\n",
              " array([ True]),\n",
              " array([0.01278945], dtype=float32),\n",
              " array([ True]),\n",
              " array([0.3019412], dtype=float32),\n",
              " array([ True]),\n",
              " array([0.01782083], dtype=float32),\n",
              " array([ True]),\n",
              " array([0.02202655], dtype=float32),\n",
              " array([ True]),\n",
              " array([0.06099795], dtype=float32),\n",
              " array([ True]),\n",
              " array([0.08092492], dtype=float32),\n",
              " array([ True]),\n",
              " array([0.0677531], dtype=float32),\n",
              " array([ True]),\n",
              " array([0.24900101], dtype=float32),\n",
              " array([ True]),\n",
              " array([0.04825446], dtype=float32),\n",
              " array([ True]),\n",
              " array([0.2562698], dtype=float32),\n",
              " array([ True]),\n",
              " array([0.27200148], dtype=float32),\n",
              " array([ True]),\n",
              " array([0.85258484], dtype=float32),\n",
              " array([False]),\n",
              " array([0.93665665], dtype=float32),\n",
              " array([False]),\n",
              " array([0.04218183], dtype=float32),\n",
              " array([ True]),\n",
              " array([0.02792551], dtype=float32),\n",
              " array([ True]),\n",
              " array([0.01824284], dtype=float32),\n",
              " array([ True]),\n",
              " array([0.33422887], dtype=float32),\n",
              " array([ True]),\n",
              " array([0.0027526], dtype=float32),\n",
              " array([ True]),\n",
              " array([0.04566064], dtype=float32),\n",
              " array([ True]),\n",
              " array([0.00711813], dtype=float32),\n",
              " array([ True]),\n",
              " array([0.00762555], dtype=float32),\n",
              " array([ True]),\n",
              " array([0.04400488], dtype=float32),\n",
              " array([ True]),\n",
              " array([0.01006106], dtype=float32),\n",
              " array([ True]),\n",
              " array([0.27789244], dtype=float32),\n",
              " array([ True]),\n",
              " array([0.05576991], dtype=float32),\n",
              " array([ True]),\n",
              " array([0.0014682], dtype=float32),\n",
              " array([ True]),\n",
              " array([0.12482981], dtype=float32),\n",
              " array([ True]),\n",
              " array([0.00860412], dtype=float32),\n",
              " array([ True]),\n",
              " array([0.44064614], dtype=float32),\n",
              " array([ True]),\n",
              " array([0.03407881], dtype=float32),\n",
              " array([ True])]"
            ]
          },
          "metadata": {
            "tags": []
          },
          "execution_count": 354
        }
      ]
    },
    {
      "cell_type": "code",
      "metadata": {
        "id": "oBHeu3Y74hBp",
        "colab": {
          "base_uri": "https://localhost:8080/"
        },
        "outputId": "98515aac-9015-4339-a5c4-3028551dda01"
      },
      "source": [
        "if pred[0] == 1:\n",
        "  print(\"Person has Pneumonia\")\n",
        "else:\n",
        "  print(\"Person is normal\")"
      ],
      "execution_count": null,
      "outputs": [
        {
          "output_type": "stream",
          "text": [
            "Person is normal\n"
          ],
          "name": "stdout"
        }
      ]
    },
    {
      "cell_type": "code",
      "metadata": {
        "id": "hf5yBW34Rgu4"
      },
      "source": [
        "model.save('my_model.h5') "
      ],
      "execution_count": null,
      "outputs": []
    },
    {
      "cell_type": "code",
      "metadata": {
        "id": "XU6TGceIRjjy"
      },
      "source": [
        "!cp '/content/my_model.h5' '/content/drive/My Drive/my_model/x_raymodel.h5'"
      ],
      "execution_count": null,
      "outputs": []
    }
  ]
}